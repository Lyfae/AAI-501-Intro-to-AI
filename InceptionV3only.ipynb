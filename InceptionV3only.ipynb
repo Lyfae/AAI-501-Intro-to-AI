{
  "cells": [
    {
      "cell_type": "code",
      "execution_count": 85,
      "metadata": {
        "id": "hO4WNu1GMI46"
      },
      "outputs": [],
      "source": [
        "# import the libraries\n",
        "\n",
        "import cv2\n",
        "from imutils import paths\n",
        "import matplotlib.pyplot as plt\n",
        "import seaborn as sns\n",
        "import numpy as np\n",
        "import os\n",
        "import pathlib\n",
        "import PIL\n",
        "import random\n",
        "\n",
        "from sklearn.preprocessing import LabelBinarizer\n",
        "from sklearn.model_selection import train_test_split\n",
        "from sklearn.metrics import classification_report, confusion_matrix\n",
        "\n",
        "from tensorflow.keras.preprocessing.image import ImageDataGenerator\n",
        "from tensorflow.keras.applications import VGG16\n",
        "from tensorflow.keras.layers import GlobalAveragePooling2D, AveragePooling2D, Dropout, Flatten, Dense, Input\n",
        "from tensorflow.keras.models import Model\n",
        "from tensorflow.keras.optimizers import Adam\n",
        "from tensorflow.keras.utils import to_categorical\n",
        "from tensorflow.keras.applications import ResNet50\n",
        "import tensorflow as tf\n",
        "from tensorflow.keras.applications.inception_v3 import InceptionV3\n",
        "from tensorflow.keras import layers\n"
      ]
    },
    {
      "cell_type": "code",
      "execution_count": 86,
      "metadata": {
        "id": "U4QL2pSTOWB_"
      },
      "outputs": [],
      "source": [
        "#initializing model constants\n",
        "INITIAL_LEARINGRATE = .001\n",
        "EPOCHS = 30\n",
        "BATCH_SIZE = 32\n",
        "LENGTH = 224\n",
        "WIDTH = 224"
      ]
    },
    {
      "attachments": {},
      "cell_type": "markdown",
      "metadata": {},
      "source": [
        "# Preprocessing the Data"
      ]
    },
    {
      "cell_type": "code",
      "execution_count": 88,
      "metadata": {},
      "outputs": [
        {
          "data": {
            "text/plain": [
              "(3091, 224, 224, 3)"
            ]
          },
          "execution_count": 88,
          "metadata": {},
          "output_type": "execute_result"
        }
      ],
      "source": [
        "image_path = list(paths.list_images('./DATA'))\n",
        "data = []\n",
        "labels = []\n",
        "# now we want to loop over all the images in the files and then rescale them to a 224x224 aspect ratio. This will be done via the CV library\n",
        "for x in image_path:\n",
        "    # getting the classlabel\n",
        "    label = x.split(os.path.sep)[-2]\n",
        "\n",
        "    # now, we load the image, change the color to RGB and then resize it\n",
        "    image = cv2.imread(x)\n",
        "    image = cv2.cvtColor(image,cv2.COLOR_BGR2RGB)\n",
        "    image = cv2.resize(image,(LENGTH,WIDTH))\n",
        "\n",
        "    # update our label and data list\n",
        "    labels.append(label)\n",
        "    data.append(image)\n",
        "\n",
        "\n",
        "# convert the data and labels to Numpy Arrays while scaling the pixel intensity\n",
        "data = np.array(data) / 255.0 # 255 RGB colors\n",
        "data.reshape(-1,1)\n",
        "labels = np.array(labels)\n",
        "data.shape"
      ]
    },
    {
      "cell_type": "code",
      "execution_count": 12,
      "metadata": {
        "id": "N3xuiaFjpJ0D"
      },
      "outputs": [],
      "source": [
        "#80-20 train test split\n",
        "trainX, testX, trainY, testY = train_test_split(data,labels,test_size=.2, stratify=labels,random_state=42)\n",
        "trainY = trainY.astype(float)\n",
        "testY = testY.astype(float)"
      ]
    },
    {
      "attachments": {},
      "cell_type": "markdown",
      "metadata": {
        "id": "Xa-CKKGQWdVZ"
      },
      "source": [
        "# InceptionV3 Model"
      ]
    },
    {
      "cell_type": "code",
      "execution_count": 93,
      "metadata": {
        "id": "0L6Bq3AiV4sv"
      },
      "outputs": [],
      "source": [
        "#load the pre-trained inception v3 model and weights making each base layer untrainable\n",
        "pretrained_model = InceptionV3(input_shape=(LENGTH,WIDTH,3),\n",
        "                               include_top = False,\n",
        "                               weights=\"imagenet\")\n",
        "for layer in pretrained_model.layers:\n",
        "  layer.trainable = False"
      ]
    },
    {
      "cell_type": "code",
      "execution_count": 11,
      "metadata": {
        "id": "Ei_lm4eYdqt6"
      },
      "outputs": [],
      "source": [
        "#adding head layers for training on the new data with binary output\n",
        "optimizer = Adam(learning_rate=INITIAL_LEARINGRATE, decay = INITIAL_LEARINGRATE/EPOCHS)\n",
        "x = layers.AveragePooling2D(pool_size=(4,4))(pretrained_model.output)\n",
        "x = layers.Flatten()(x)\n",
        "x = layers.Dense(64, activation='relu')(x)\n",
        "x = layers.Dropout(0.5)(x)\n",
        "x = layers.Dense(1,activation='sigmoid')(x)\n",
        "model = Model(pretrained_model.input, x)\n",
        "model.compile(optimizer = optimizer,\n",
        "              loss = 'binary_crossentropy',\n",
        "              metrics = ['acc'])\n"
      ]
    },
    {
      "cell_type": "code",
      "execution_count": 13,
      "metadata": {
        "id": "XQPpsCGMm7hq"
      },
      "outputs": [
        {
          "name": "stdout",
          "output_type": "stream",
          "text": [
            "Epoch 1/30\n",
            "77/77 [==============================] - 54s 670ms/step - loss: 0.4456 - acc: 0.8101 - val_loss: 0.2685 - val_acc: 0.8882\n",
            "Epoch 2/30\n",
            "77/77 [==============================] - 50s 656ms/step - loss: 0.2366 - acc: 0.9041 - val_loss: 0.2185 - val_acc: 0.8997\n",
            "Epoch 3/30\n",
            "77/77 [==============================] - 50s 649ms/step - loss: 0.1850 - acc: 0.9328 - val_loss: 0.1883 - val_acc: 0.9227\n",
            "Epoch 4/30\n",
            "77/77 [==============================] - 50s 652ms/step - loss: 0.1806 - acc: 0.9311 - val_loss: 0.1756 - val_acc: 0.9326\n",
            "Epoch 5/30\n",
            "77/77 [==============================] - 50s 657ms/step - loss: 0.1606 - acc: 0.9418 - val_loss: 0.1654 - val_acc: 0.9260\n",
            "Epoch 6/30\n",
            "77/77 [==============================] - 50s 655ms/step - loss: 0.1389 - acc: 0.9480 - val_loss: 0.1661 - val_acc: 0.9359\n",
            "Epoch 7/30\n",
            "77/77 [==============================] - 50s 653ms/step - loss: 0.1362 - acc: 0.9496 - val_loss: 0.1708 - val_acc: 0.9326\n",
            "Epoch 8/30\n",
            "77/77 [==============================] - 50s 652ms/step - loss: 0.1354 - acc: 0.9451 - val_loss: 0.1744 - val_acc: 0.9243\n",
            "Epoch 9/30\n",
            "77/77 [==============================] - 50s 654ms/step - loss: 0.1272 - acc: 0.9570 - val_loss: 0.1794 - val_acc: 0.9293\n",
            "Epoch 10/30\n",
            "77/77 [==============================] - 50s 652ms/step - loss: 0.1205 - acc: 0.9529 - val_loss: 0.1771 - val_acc: 0.9309\n",
            "Epoch 11/30\n",
            "77/77 [==============================] - 50s 653ms/step - loss: 0.1189 - acc: 0.9512 - val_loss: 0.1617 - val_acc: 0.9391\n",
            "Epoch 12/30\n",
            "77/77 [==============================] - 50s 656ms/step - loss: 0.1379 - acc: 0.9439 - val_loss: 0.1661 - val_acc: 0.9375\n",
            "Epoch 13/30\n",
            "77/77 [==============================] - 50s 655ms/step - loss: 0.1049 - acc: 0.9619 - val_loss: 0.1577 - val_acc: 0.9490\n",
            "Epoch 14/30\n",
            "77/77 [==============================] - 50s 651ms/step - loss: 0.1152 - acc: 0.9566 - val_loss: 0.1580 - val_acc: 0.9293\n",
            "Epoch 15/30\n",
            "77/77 [==============================] - 52s 676ms/step - loss: 0.1071 - acc: 0.9586 - val_loss: 0.1680 - val_acc: 0.9342\n",
            "Epoch 16/30\n",
            "77/77 [==============================] - 50s 653ms/step - loss: 0.1104 - acc: 0.9594 - val_loss: 0.1828 - val_acc: 0.9424\n",
            "Epoch 17/30\n",
            "77/77 [==============================] - 50s 655ms/step - loss: 0.1016 - acc: 0.9602 - val_loss: 0.1722 - val_acc: 0.9408\n",
            "Epoch 18/30\n",
            "77/77 [==============================] - 50s 648ms/step - loss: 0.1047 - acc: 0.9672 - val_loss: 0.1705 - val_acc: 0.9457\n",
            "Epoch 19/30\n",
            "77/77 [==============================] - 50s 651ms/step - loss: 0.0883 - acc: 0.9676 - val_loss: 0.1561 - val_acc: 0.9474\n",
            "Epoch 20/30\n",
            "77/77 [==============================] - 50s 653ms/step - loss: 0.0872 - acc: 0.9680 - val_loss: 0.2023 - val_acc: 0.9424\n",
            "Epoch 21/30\n",
            "77/77 [==============================] - 50s 658ms/step - loss: 0.1019 - acc: 0.9615 - val_loss: 0.1644 - val_acc: 0.9309\n",
            "Epoch 22/30\n",
            "77/77 [==============================] - 50s 653ms/step - loss: 0.0871 - acc: 0.9660 - val_loss: 0.1698 - val_acc: 0.9424\n",
            "Epoch 23/30\n",
            "77/77 [==============================] - 50s 650ms/step - loss: 0.1001 - acc: 0.9619 - val_loss: 0.1566 - val_acc: 0.9441\n",
            "Epoch 24/30\n",
            "77/77 [==============================] - 50s 650ms/step - loss: 0.0897 - acc: 0.9639 - val_loss: 0.1798 - val_acc: 0.9424\n",
            "Epoch 25/30\n",
            "77/77 [==============================] - 50s 650ms/step - loss: 0.0852 - acc: 0.9672 - val_loss: 0.1504 - val_acc: 0.9441\n",
            "Epoch 26/30\n",
            "77/77 [==============================] - 50s 652ms/step - loss: 0.0838 - acc: 0.9713 - val_loss: 0.1857 - val_acc: 0.9227\n",
            "Epoch 27/30\n",
            "77/77 [==============================] - 51s 667ms/step - loss: 0.0823 - acc: 0.9648 - val_loss: 0.1703 - val_acc: 0.9391\n",
            "Epoch 28/30\n",
            "77/77 [==============================] - 51s 667ms/step - loss: 0.0796 - acc: 0.9643 - val_loss: 0.1668 - val_acc: 0.9375\n",
            "Epoch 29/30\n",
            "77/77 [==============================] - 50s 649ms/step - loss: 0.0711 - acc: 0.9701 - val_loss: 0.1789 - val_acc: 0.9391\n",
            "Epoch 30/30\n",
            "77/77 [==============================] - 50s 649ms/step - loss: 0.0856 - acc: 0.9656 - val_loss: 0.1719 - val_acc: 0.9326\n"
          ]
        }
      ],
      "source": [
        "#Fitting the model to the train data\n",
        "head = model.fit(\n",
        "    trainX,\n",
        "    trainY,\n",
        "    batch_size=BATCH_SIZE,\n",
        "    steps_per_epoch = len(trainX)//BATCH_SIZE,\n",
        "    validation_data = (testX,testY),\n",
        "    validation_steps = len(testX) // BATCH_SIZE,\n",
        "    epochs = EPOCHS\n",
        ")"
      ]
    },
    {
      "cell_type": "code",
      "execution_count": 14,
      "metadata": {
        "colab": {
          "base_uri": "https://localhost:8080/"
        },
        "id": "bAlGQg1bqcck",
        "outputId": "34925f59-f510-4bf3-f44a-7901a255de9c"
      },
      "outputs": [
        {
          "name": "stdout",
          "output_type": "stream",
          "text": [
            "              precision    recall  f1-score   support\n",
            "\n",
            "         0.0       0.91      0.93      0.92       261\n",
            "         1.0       0.95      0.93      0.94       358\n",
            "\n",
            "    accuracy                           0.93       619\n",
            "   macro avg       0.93      0.93      0.93       619\n",
            "weighted avg       0.93      0.93      0.93       619\n",
            "\n"
          ]
        }
      ],
      "source": [
        "predict = model.predict(testX,batch_size=BATCH_SIZE)\n",
        "predict = np.round(predict)\n",
        "print(classification_report(testY,predict))"
      ]
    },
    {
      "cell_type": "code",
      "execution_count": 15,
      "metadata": {},
      "outputs": [
        {
          "data": {
            "image/png": "[encoded data removed]",
            "text/plain": [
              "<Figure size 432x288 with 2 Axes>"
            ]
          },
          "metadata": {
            "needs_background": "light"
          },
          "output_type": "display_data"
        },
        {
          "name": "stdout",
          "output_type": "stream",
          "text": [
            "Accuracy:     0.934\n",
            "Sensitivity:  0.935\n",
            "Specificity:  0.933\n"
          ]
        }
      ],
      "source": [
        "\n",
        "# create a confusion matrix consisting of accuracy, sensitivity, and specificity. \n",
        "confusionMatrix =confusion_matrix(testY,predict)\n",
        "total = sum(sum(confusionMatrix))\n",
        "\n",
        "# caculate accuracy, sensitivity, and specificity\n",
        "accuracy = (confusionMatrix[0,0] + confusionMatrix[1,1]) / total\n",
        "sensitivity = confusionMatrix[0,0] / (confusionMatrix[0,0] + confusionMatrix[0,1])\n",
        "specificity = confusionMatrix[1,1] / (confusionMatrix[1,0] + confusionMatrix[1,1])\n",
        "# plot confusion matrix\n",
        "confusionMatrix = confusion_matrix(testY,predict, normalize = 'true')\n",
        "sns.heatmap(confusionMatrix, annot=True)\n",
        "plt.title('Confusion Matrix VGG16')\n",
        "plt.ylabel('True classes')\n",
        "plt.xlabel('Predicted classes')\n",
        "plt.xticks([0.5, 1.5], ['Without Covid', 'With Covid'])\n",
        "plt.yticks([0.5, 1.5], ['Without Covid', 'With Covid'])\n",
        "plt.show()\n",
        "\n",
        "# display the output\n",
        "print(\"Accuracy:    \", round(accuracy,3))\n",
        "print(\"Sensitivity: \", round(sensitivity,3))\n",
        "print(\"Specificity: \", round(specificity,3))"
      ]
    },
    {
      "cell_type": "code",
      "execution_count": 17,
      "metadata": {
        "colab": {
          "base_uri": "https://localhost:8080/",
          "height": 472
        },
        "id": "LsJdCpTdEnDf",
        "outputId": "53b52781-01ca-4606-fe8c-dbca87f14cf6"
      },
      "outputs": [
        {
          "data": {
            "image/png": "[encoded data removed]",
            "text/plain": [
              "<Figure size 432x288 with 1 Axes>"
            ]
          },
          "metadata": {
            "needs_background": "light"
          },
          "output_type": "display_data"
        }
      ],
      "source": [
        "plt.plot(np.arange(0, EPOCHS), head.history['loss'], label='training loss')\n",
        "plt.plot(np.arange(0, EPOCHS), head.history['val_loss'], label='val loss')\n",
        "plt.plot(np.arange(0, EPOCHS), head.history['acc'], label='training acc')\n",
        "plt.plot(np.arange(0, EPOCHS), head.history['val_acc'], label='val acc')\n",
        "plt.title(\"Loss and Accuracy on COVID-19 Dataset - InceptionV3\")\n",
        "plt.xlabel(\"Epoch\")\n",
        "plt.ylabel(\"Loss/Accuracy\")\n",
        "plt.legend(loc=\"center right\")\n",
        "plt.show()"
      ]
    }
  ],
  "metadata": {
    "colab": {
      "provenance": []
    },
    "gpuClass": "standard",
    "kernelspec": {
      "display_name": "Python 3",
      "name": "python3"
    },
    "language_info": {
      "codemirror_mode": {
        "name": "ipython",
        "version": 3
      },
      "file_extension": ".py",
      "mimetype": "text/x-python",
      "name": "python",
      "nbconvert_exporter": "python",
      "pygments_lexer": "ipython3",
      "version": "3.6.13"
    }
  },
  "nbformat": 4,
  "nbformat_minor": 0
}
