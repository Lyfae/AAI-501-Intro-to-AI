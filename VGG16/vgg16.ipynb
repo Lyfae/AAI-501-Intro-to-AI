{
 "cells": [
  {
   "attachments": {},
   "cell_type": "markdown",
   "metadata": {},
   "source": [
    "# VGG16"
   ]
  },
  {
   "attachments": {},
   "cell_type": "markdown",
   "metadata": {},
   "source": [
    "Paul Thai"
   ]
  },
  {
   "cell_type": "code",
   "execution_count": 1,
   "metadata": {},
   "outputs": [],
   "source": [
    "# import the libraries\n",
    "import numpy as np\n",
    "import matplotlib.pyplot as plt\n",
    "import pathlib\n",
    "import tensorflow as tf\n",
    "from keras.models import Sequential\n",
    "from keras.layers import Conv2D, MaxPooling2D, Flatten, Dense\n",
    "from keras.optimizers import Adam\n",
    "from keras.callbacks import ModelCheckpoint, EarlyStopping"
   ]
  },
  {
   "attachments": {},
   "cell_type": "markdown",
   "metadata": {},
   "source": [
    "Preparing the Data"
   ]
  },
  {
   "cell_type": "code",
   "execution_count": 2,
   "metadata": {},
   "outputs": [
    {
     "name": "stdout",
     "output_type": "stream",
     "text": [
      "..\\DATA\n"
     ]
    }
   ],
   "source": [
    "# Now we will set the path:\n",
    "# For this jupyter notebook, I am doing inside the repo folder, hopefully this works for you guys as well, let me know if it doesn't\n",
    "data_path = pathlib.Path(\"../DATA\").with_suffix('')\n",
    "print(data_path)"
   ]
  },
  {
   "cell_type": "code",
   "execution_count": 3,
   "metadata": {},
   "outputs": [
    {
     "name": "stdout",
     "output_type": "stream",
     "text": [
      "3091\n"
     ]
    }
   ],
   "source": [
    "# check to see how many images are in the folder\n",
    "images_count = len(list(data_path.glob('*/*.jpeg')))\n",
    "print(images_count)"
   ]
  },
  {
   "cell_type": "code",
   "execution_count": 4,
   "metadata": {},
   "outputs": [],
   "source": [
    "# specify the batch size nad the image size for the training\n",
    "batch_size = 32 # smaller bathes gives better results\n",
    "height = 224\n",
    "width = 224"
   ]
  },
  {
   "cell_type": "code",
   "execution_count": 5,
   "metadata": {},
   "outputs": [
    {
     "name": "stdout",
     "output_type": "stream",
     "text": [
      "Found 3091 files belonging to 2 classes.\n",
      "Using 2473 files for training.\n"
     ]
    }
   ],
   "source": [
    "# create the data set for training\n",
    "train_dataset = tf.keras.utils.image_dataset_from_directory(\n",
    "    data_path,\n",
    "    validation_split=.2,\n",
    "    subset=\"training\",\n",
    "    seed=123,\n",
    "    image_size=(height,width),\n",
    "    batch_size=batch_size\n",
    ")"
   ]
  },
  {
   "cell_type": "code",
   "execution_count": 6,
   "metadata": {},
   "outputs": [
    {
     "name": "stdout",
     "output_type": "stream",
     "text": [
      "Found 3091 files belonging to 2 classes.\n",
      "Using 618 files for validation.\n"
     ]
    }
   ],
   "source": [
    "# create the data set for validation\n",
    "validate_dataset = tf.keras.utils.image_dataset_from_directory(\n",
    "    data_path,\n",
    "    validation_split=.2,\n",
    "    subset=\"validation\",\n",
    "    seed=123,\n",
    "    image_size=(height,width),\n",
    "    batch_size=batch_size\n",
    ")"
   ]
  },
  {
   "attachments": {},
   "cell_type": "markdown",
   "metadata": {},
   "source": [
    "Just remember that:   \n",
    "0 = Without covid  \n",
    "1 = With Covid  "
   ]
  },
  {
   "cell_type": "code",
   "execution_count": 7,
   "metadata": {},
   "outputs": [
    {
     "name": "stdout",
     "output_type": "stream",
     "text": [
      "['0', '1']\n"
     ]
    }
   ],
   "source": [
    "# finding the class names\n",
    "class_names = train_dataset.class_names\n",
    "print(class_names)"
   ]
  },
  {
   "attachments": {},
   "cell_type": "markdown",
   "metadata": {},
   "source": [
    "Configuring the dataset for performance"
   ]
  },
  {
   "cell_type": "code",
   "execution_count": 8,
   "metadata": {},
   "outputs": [],
   "source": [
    "# AUTOTUNE = tf.data.AUTOTUNE\n",
    "\n",
    "# train_dataset = train_dataset.cache().prefetch(buffer_size=AUTOTUNE)\n",
    "# validate_dataset = validate_dataset.cache().prefetch(buffer_size=AUTOTUNE)"
   ]
  },
  {
   "attachments": {},
   "cell_type": "markdown",
   "metadata": {},
   "source": [
    "Creating the Model"
   ]
  },
  {
   "cell_type": "code",
   "execution_count": 9,
   "metadata": {},
   "outputs": [],
   "source": [
    "# creating the model - In Keras, the VGG16 architecture can be implemented using Sequential\n",
    "model = Sequential()\n"
   ]
  },
  {
   "cell_type": "code",
   "execution_count": 10,
   "metadata": {},
   "outputs": [],
   "source": [
    "# First Convolutional Block\n",
    "model.add(\n",
    "    Conv2D(\n",
    "        input_shape=(height,width,3),\n",
    "        filters = 64,\n",
    "        kernel_size=(3,3),\n",
    "        padding='same',\n",
    "        activation = 'relu'\n",
    "    )\n",
    ")\n",
    "\n",
    "model.add(\n",
    "    Conv2D(\n",
    "        filters = 64,\n",
    "        kernel_size=(3,3),\n",
    "        padding='same',\n",
    "        activation = 'relu'\n",
    "    )\n",
    ")\n",
    "\n",
    "model.add(\n",
    "    MaxPooling2D(\n",
    "        pool_size=(2,2),\n",
    "        strides=(2,2)\n",
    "    )\n",
    ")"
   ]
  },
  {
   "cell_type": "code",
   "execution_count": 11,
   "metadata": {},
   "outputs": [],
   "source": [
    "# Second Convolutional Block\n",
    "model.add(\n",
    "    Conv2D(\n",
    "        filters = 128,\n",
    "        kernel_size=(3,3),\n",
    "        padding='same',\n",
    "        activation = 'relu'\n",
    "    )\n",
    ")\n",
    "\n",
    "model.add(\n",
    "    Conv2D(\n",
    "        filters = 128,\n",
    "        kernel_size=(3,3),\n",
    "        padding='same',\n",
    "        activation = 'relu'\n",
    "    )\n",
    ")\n",
    "\n",
    "model.add(\n",
    "    MaxPooling2D(\n",
    "        pool_size=(2,2),\n",
    "        strides=(2,2)\n",
    "    )\n",
    ")"
   ]
  },
  {
   "cell_type": "code",
   "execution_count": 12,
   "metadata": {},
   "outputs": [],
   "source": [
    "# Third Convolutional Block\n",
    "model.add(\n",
    "    Conv2D(\n",
    "        filters = 256,\n",
    "        kernel_size=(3,3),\n",
    "        padding='same',\n",
    "        activation = 'relu'\n",
    "    )\n",
    ")\n",
    "\n",
    "model.add(\n",
    "    Conv2D(\n",
    "        filters = 256,\n",
    "        kernel_size=(3,3),\n",
    "        padding='same',\n",
    "        activation = 'relu'\n",
    "    )\n",
    ")\n",
    "\n",
    "model.add(\n",
    "    Conv2D(\n",
    "        filters = 256,\n",
    "        kernel_size=(3,3),\n",
    "        padding='same',\n",
    "        activation = 'relu'\n",
    "    )\n",
    ")\n",
    "\n",
    "model.add(\n",
    "    MaxPooling2D(\n",
    "        pool_size=(2,2),\n",
    "        strides=(2,2)\n",
    "    )\n",
    ")"
   ]
  },
  {
   "cell_type": "code",
   "execution_count": 13,
   "metadata": {},
   "outputs": [],
   "source": [
    "# Fourth Convolutional Block\n",
    "model.add(\n",
    "    Conv2D(\n",
    "        filters = 512,\n",
    "        kernel_size=(3,3),\n",
    "        padding='same',\n",
    "        activation = 'relu'\n",
    "    )\n",
    ")\n",
    "\n",
    "model.add(\n",
    "    Conv2D(\n",
    "        filters = 512,\n",
    "        kernel_size=(3,3),\n",
    "        padding='same',\n",
    "        activation = 'relu'\n",
    "    )\n",
    ")\n",
    "\n",
    "model.add(\n",
    "    Conv2D(\n",
    "        filters = 512,\n",
    "        kernel_size=(3,3),\n",
    "        padding='same',\n",
    "        activation = 'relu'\n",
    "    )\n",
    ")\n",
    "\n",
    "model.add(\n",
    "    MaxPooling2D(\n",
    "        pool_size=(2,2),\n",
    "        strides=(2,2)\n",
    "    )\n",
    ")"
   ]
  },
  {
   "cell_type": "code",
   "execution_count": 14,
   "metadata": {},
   "outputs": [],
   "source": [
    "# Fifth Convolutional Block\n",
    "model.add(\n",
    "    Conv2D(\n",
    "        filters = 512,\n",
    "        kernel_size=(3,3),\n",
    "        padding='same',\n",
    "        activation = 'relu'\n",
    "    )\n",
    ")\n",
    "\n",
    "model.add(\n",
    "    Conv2D(\n",
    "        filters = 512,\n",
    "        kernel_size=(3,3),\n",
    "        padding='same',\n",
    "        activation = 'relu'\n",
    "    )\n",
    ")\n",
    "\n",
    "model.add(\n",
    "    Conv2D(\n",
    "        filters = 512,\n",
    "        kernel_size=(3,3),\n",
    "        padding='same',\n",
    "        activation = 'relu'\n",
    "    )\n",
    ")\n",
    "\n",
    "model.add(\n",
    "    MaxPooling2D(\n",
    "        pool_size=(2,2),\n",
    "        strides=(2,2)\n",
    "    )\n",
    ")"
   ]
  },
  {
   "cell_type": "code",
   "execution_count": 15,
   "metadata": {},
   "outputs": [],
   "source": [
    "# Dense Layers\n",
    "model.add(\n",
    "    Flatten()\n",
    ")\n",
    "\n",
    "model.add(\n",
    "    Dense(\n",
    "        units=4096,\n",
    "        activation='relu'\n",
    "    )\n",
    ")\n",
    "\n",
    "model.add(\n",
    "    Dense(\n",
    "        units=4096,\n",
    "        activation='relu'\n",
    "    )\n",
    ")\n",
    "\n",
    "model.add(\n",
    "    Dense(\n",
    "        units=2,\n",
    "        activation='softmax'\n",
    "    )\n",
    ")"
   ]
  },
  {
   "attachments": {},
   "cell_type": "markdown",
   "metadata": {},
   "source": [
    "Compiling and Fitting the Model"
   ]
  },
  {
   "cell_type": "code",
   "execution_count": 16,
   "metadata": {},
   "outputs": [],
   "source": [
    "# use the Adam optimization algorithm to train the deep neural network\n",
    "optimize = Adam(learning_rate=0.001)"
   ]
  },
  {
   "cell_type": "code",
   "execution_count": 17,
   "metadata": {},
   "outputs": [],
   "source": [
    "# compile the model\n",
    "model.compile(\n",
    "    optimizer=optimize,\n",
    "    loss=tf.keras.losses.SparseCategoricalCrossentropy(from_logits=False),\n",
    "    metrics=['accuracy']\n",
    ")"
   ]
  },
  {
   "attachments": {},
   "cell_type": "markdown",
   "metadata": {},
   "source": [
    "### Summary of the Model"
   ]
  },
  {
   "cell_type": "code",
   "execution_count": 18,
   "metadata": {},
   "outputs": [],
   "source": [
    "# model.summary()"
   ]
  },
  {
   "attachments": {},
   "cell_type": "markdown",
   "metadata": {},
   "source": [
    "### ModelCheckpoint and Early Stopping\n",
    "\n",
    "- ModelCheckpoint - save the model weights as certain intervals during training. This helps load saved weights to make predictions or continue training the model. \n",
    "- EarlyStopping - stop the training of the model when a monitored quantity has stopped improving. This prevents overfitting and saved time by avoiding unnecessary training on a model that is not improving. "
   ]
  },
  {
   "cell_type": "code",
   "execution_count": 19,
   "metadata": {},
   "outputs": [],
   "source": [
    "# create the checkpoint\n",
    "checkPoint = ModelCheckpoint(\n",
    "    \"./vgg16.hdf5\",\n",
    "    monitor='val_accuracy',\n",
    "    save_best_only=True,\n",
    "    save_weights_only=False,\n",
    "    mode='auto',\n",
    "    save_freq='epoch',\n",
    ")"
   ]
  },
  {
   "cell_type": "code",
   "execution_count": 20,
   "metadata": {},
   "outputs": [],
   "source": [
    "# creating the early stop\n",
    "earlyStop = EarlyStopping(\n",
    "    monitor='val_accuracy',\n",
    "    min_delta=0,\n",
    "    patience=5,\n",
    "    mode='min'\n",
    ")"
   ]
  },
  {
   "cell_type": "code",
   "execution_count": 21,
   "metadata": {},
   "outputs": [
    {
     "name": "stdout",
     "output_type": "stream",
     "text": [
      "Epoch 1/2\n",
      "78/78 [==============================] - 541s 7s/step - loss: 198.9556 - accuracy: 0.5390 - val_loss: 0.6798 - val_accuracy: 0.5858\n",
      "Epoch 2/2\n",
      "78/78 [==============================] - 508s 7s/step - loss: 0.6831 - accuracy: 0.5774 - val_loss: 0.6793 - val_accuracy: 0.5858\n"
     ]
    }
   ],
   "source": [
    "# create the histogram fitting the data\n",
    "results = model.fit(\n",
    "    train_dataset,\n",
    "    validation_data=validate_dataset,\n",
    "    epochs=2,\n",
    "    callbacks=[checkPoint,earlyStop]\n",
    ")\n"
   ]
  },
  {
   "attachments": {},
   "cell_type": "markdown",
   "metadata": {},
   "source": [
    "Plot for visual representation"
   ]
  },
  {
   "cell_type": "code",
   "execution_count": 23,
   "metadata": {},
   "outputs": [
    {
     "data": {
      "image/png": "[encoded data removed]",
      "text/plain": [
       "<Figure size 432x288 with 1 Axes>"
      ]
     },
     "metadata": {
      "needs_background": "light"
     },
     "output_type": "display_data"
    }
   ],
   "source": [
    "plt.plot(results.history['accuracy'])\n",
    "plt.plot(results.history['val_accuracy'])\n",
    "plt.plot(results.history['loss'])\n",
    "plt.plot(results.history['val_loss'])\n",
    "plt.title(\"model accuracy\")\n",
    "plt.ylabel(\"Accuracy\")\n",
    "plt.xlabel(\"Epoch\")\n",
    "plt.legend([\"Accuracy\",\"Validation Accuracy\",\"loss\",\"Validation Loss\"])\n",
    "plt.show()"
   ]
  }
 ],
 "metadata": {
  "kernelspec": {
   "display_name": "Python 3",
   "language": "python",
   "name": "python3"
  },
  "language_info": {
   "codemirror_mode": {
    "name": "ipython",
    "version": 3
   },
   "file_extension": ".py",
   "mimetype": "text/x-python",
   "name": "python",
   "nbconvert_exporter": "python",
   "pygments_lexer": "ipython3",
   "version": "3.9.7"
  },
  "orig_nbformat": 4
 },
 "nbformat": 4,
 "nbformat_minor": 2
}
