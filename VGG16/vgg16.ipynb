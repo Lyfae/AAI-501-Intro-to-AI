{
 "cells": [
  {
   "cell_type": "code",
   "execution_count": 8,
   "metadata": {},
   "outputs": [],
   "source": [
    "# import the libraries\n",
    "import cv2\n",
    "from imutils import paths\n",
    "import matplotlib.pyplot as plt\n",
    "import numpy as np\n",
    "import os\n",
    "from sklearn.preprocessing import LabelBinarizer\n",
    "from sklearn.model_selection import train_test_split\n",
    "from sklearn.metrics import classification_report, confusion_matrix\n",
    "from tensorflow.keras.preprocessing.image import ImageDataGenerator\n",
    "from tensorflow.keras.applications import VGG16\n",
    "from tensorflow.keras.layers import AveragePooling2D, Dropout, Flatten, Dense, Input\n",
    "from tensorflow.keras.models import Model\n",
    "from tensorflow.keras.optimizers import Adam\n",
    "from tensorflow.keras.utils import to_categorical"
   ]
  },
  {
   "cell_type": "code",
   "execution_count": 9,
   "metadata": {},
   "outputs": [],
   "source": [
    "# initialize the constants: \n",
    "# Initial Learning Rate\n",
    "# Epochs\n",
    "# Batch Size\n",
    "# Length \n",
    "# Width \n",
    "INITIAL_LEARINGRATE = .001\n",
    "EPOCHS = 10\n",
    "BATCH_SIZE = 32\n",
    "LENGTH = 224\n",
    "WIDTH = 224"
   ]
  },
  {
   "attachments": {},
   "cell_type": "markdown",
   "metadata": {},
   "source": [
    "Loading the Preprocessing the Data"
   ]
  },
  {
   "cell_type": "code",
   "execution_count": 10,
   "metadata": {},
   "outputs": [],
   "source": [
    "# take the images and put them into lists\n",
    "image_path = list(paths.list_images(r\"C:\\\\Users\\\\usuik\\\\Documents\\\\Masters_Program\\\\AAI-501 Intro to AI\\\\AAI-501-Intro-to-AI\\\\DATA\"))"
   ]
  },
  {
   "cell_type": "code",
   "execution_count": 11,
   "metadata": {},
   "outputs": [],
   "source": [
    "# create empty list for the data and the labels\n",
    "data = list()\n",
    "labels = list()"
   ]
  },
  {
   "cell_type": "code",
   "execution_count": 12,
   "metadata": {},
   "outputs": [],
   "source": [
    "# now we want to loop over all the images in the files and then rescale them to a 224x224 aspect ratio. This will be done via the CV library\n",
    "for x in image_path:\n",
    "    # getting the classlabel\n",
    "    label = x.split(os.path.sep)[-2]\n",
    "\n",
    "    # now, we load the image, change the color to RGB and then resize it\n",
    "    image = cv2.imread(x)\n",
    "    image = cv2.cvtColor(image,cv2.COLOR_BGR2RGB)\n",
    "    image = cv2.resize(image,(LENGTH,WIDTH))\n",
    "\n",
    "    # update our label and data list\n",
    "    labels.append(label)\n",
    "    data.append(image)\n"
   ]
  },
  {
   "cell_type": "code",
   "execution_count": 13,
   "metadata": {},
   "outputs": [],
   "source": [
    "# convert the data and labels to Numpy Arrays while scaling the pixel intensity\n",
    "data = np.array(data) / 255.0 # 255 RGB colors\n",
    "data.reshape(-1,1)\n",
    "labels = np.array(labels)"
   ]
  },
  {
   "attachments": {},
   "cell_type": "markdown",
   "metadata": {},
   "source": [
    "Creating the Model using VGG16 Base Model"
   ]
  },
  {
   "cell_type": "code",
   "execution_count": 14,
   "metadata": {},
   "outputs": [],
   "source": [
    "# one-hot encoding the models\n",
    "lb = LabelBinarizer()\n",
    "labels = lb.fit_transform(labels)\n",
    "labels = to_categorical(labels)"
   ]
  },
  {
   "cell_type": "code",
   "execution_count": 15,
   "metadata": {},
   "outputs": [],
   "source": [
    "# creating our train and test data. Using standard practice, 80% of the dataset will be used for training \n",
    "# while the 20% will be used for testing\n",
    "trainX, testX, trainY, testY = train_test_split(data,labels,test_size=.2, stratify=labels,random_state=42)"
   ]
  },
  {
   "cell_type": "code",
   "execution_count": 16,
   "metadata": {},
   "outputs": [],
   "source": [
    "# initialize the training data augmentation object\n",
    "train_augment = ImageDataGenerator(\n",
    "    rotation_range =15,\n",
    "    fill_mode = 'nearest'\n",
    ")"
   ]
  },
  {
   "cell_type": "code",
   "execution_count": 17,
   "metadata": {},
   "outputs": [],
   "source": [
    "# load the base model\n",
    "base_model = VGG16(weights=\"imagenet\", include_top=False,input_tensor=Input(shape=(LENGTH,WIDTH,3)))"
   ]
  },
  {
   "cell_type": "code",
   "execution_count": 18,
   "metadata": {},
   "outputs": [],
   "source": [
    "# create the head of the model that is going to be on top of the base model\n",
    "head_model = base_model.output\n",
    "head_model = AveragePooling2D(pool_size=(4,4))(head_model)\n",
    "head_model = Flatten(name='flatten')(head_model)\n",
    "head_model = Dense(64, activation='relu')(head_model)\n",
    "head_model = Dropout(0.5)(head_model)\n",
    "head_model = Dense(2, activation='softmax')(head_model)"
   ]
  },
  {
   "cell_type": "code",
   "execution_count": 19,
   "metadata": {},
   "outputs": [],
   "source": [
    "# now we will create our model; this model will be the one that is used to do the trainings\n",
    "model = Model(inputs=base_model.input, outputs=head_model)"
   ]
  },
  {
   "cell_type": "code",
   "execution_count": 20,
   "metadata": {},
   "outputs": [],
   "source": [
    "# freeze the layers of the base model so its not updated during the first training process\n",
    "for y in base_model.layers:\n",
    "    y.trainable = False"
   ]
  },
  {
   "attachments": {},
   "cell_type": "markdown",
   "metadata": {},
   "source": [
    "Compiling the Model"
   ]
  },
  {
   "cell_type": "code",
   "execution_count": 21,
   "metadata": {},
   "outputs": [],
   "source": [
    "# using the ADAM optimizer to optimize\n",
    "optimizer = Adam(learning_rate=INITIAL_LEARINGRATE, weight_decay = INITIAL_LEARINGRATE/EPOCHS)"
   ]
  },
  {
   "cell_type": "code",
   "execution_count": 22,
   "metadata": {},
   "outputs": [],
   "source": [
    "# compile the model\n",
    "model.compile(\n",
    "    optimizer = optimizer,\n",
    "    loss = 'binary_crossentropy',\n",
    "    metrics = ['accuracy']\n",
    ")"
   ]
  },
  {
   "attachments": {},
   "cell_type": "markdown",
   "metadata": {},
   "source": [
    "Training the Network"
   ]
  },
  {
   "cell_type": "code",
   "execution_count": 23,
   "metadata": {},
   "outputs": [
    {
     "name": "stdout",
     "output_type": "stream",
     "text": [
      "Epoch 1/10\n",
      "77/77 [==============================] - 138s 2s/step - loss: 0.5688 - accuracy: 0.7393 - val_loss: 0.4179 - val_accuracy: 0.8756\n",
      "Epoch 2/10\n",
      "77/77 [==============================] - 144s 2s/step - loss: 0.3948 - accuracy: 0.8570 - val_loss: 0.3042 - val_accuracy: 0.8869\n",
      "Epoch 3/10\n",
      "77/77 [==============================] - 143s 2s/step - loss: 0.3210 - accuracy: 0.8832 - val_loss: 0.2711 - val_accuracy: 0.8853\n",
      "Epoch 4/10\n",
      "77/77 [==============================] - 140s 2s/step - loss: 0.2860 - accuracy: 0.8934 - val_loss: 0.2338 - val_accuracy: 0.9031\n",
      "Epoch 5/10\n",
      "77/77 [==============================] - 141s 2s/step - loss: 0.2638 - accuracy: 0.9016 - val_loss: 0.2153 - val_accuracy: 0.9111\n",
      "Epoch 6/10\n",
      "77/77 [==============================] - 149s 2s/step - loss: 0.2490 - accuracy: 0.9049 - val_loss: 0.1996 - val_accuracy: 0.9176\n",
      "Epoch 7/10\n",
      "77/77 [==============================] - 151s 2s/step - loss: 0.2353 - accuracy: 0.9139 - val_loss: 0.1893 - val_accuracy: 0.9208\n",
      "Epoch 8/10\n",
      "77/77 [==============================] - 152s 2s/step - loss: 0.2226 - accuracy: 0.9201 - val_loss: 0.1884 - val_accuracy: 0.9241\n",
      "Epoch 9/10\n",
      "77/77 [==============================] - 148s 2s/step - loss: 0.2151 - accuracy: 0.9193 - val_loss: 0.1785 - val_accuracy: 0.9257\n",
      "Epoch 10/10\n",
      "77/77 [==============================] - 145s 2s/step - loss: 0.2066 - accuracy: 0.9270 - val_loss: 0.1705 - val_accuracy: 0.9305\n"
     ]
    }
   ],
   "source": [
    "# train the head of the network\n",
    "head = model.fit(\n",
    "    train_augment.flow(trainX,trainY,batch_size=BATCH_SIZE),\n",
    "    steps_per_epoch = len(trainX)//BATCH_SIZE,\n",
    "    validation_data = (testX,testY),\n",
    "    validation_steps = len(testX) // BATCH_SIZE,\n",
    "    epochs = EPOCHS\n",
    ")"
   ]
  },
  {
   "attachments": {},
   "cell_type": "markdown",
   "metadata": {},
   "source": [
    "Making Predictions"
   ]
  },
  {
   "cell_type": "code",
   "execution_count": 24,
   "metadata": {},
   "outputs": [
    {
     "name": "stdout",
     "output_type": "stream",
     "text": [
      "20/20 [==============================] - 29s 1s/step\n"
     ]
    }
   ],
   "source": [
    "# predicting using the trained model\n",
    "predict = model.predict(testX,batch_size=BATCH_SIZE)"
   ]
  },
  {
   "cell_type": "code",
   "execution_count": 25,
   "metadata": {},
   "outputs": [],
   "source": [
    "# for each image, find the index of the label corresponding with the largest predicted probability\n",
    "predict = np.argmax(predict,axis=1)"
   ]
  },
  {
   "cell_type": "code",
   "execution_count": 26,
   "metadata": {},
   "outputs": [
    {
     "name": "stdout",
     "output_type": "stream",
     "text": [
      "              precision    recall  f1-score   support\n",
      "\n",
      "           0       0.89      0.96      0.92       261\n",
      "           1       0.97      0.91      0.94       358\n",
      "\n",
      "    accuracy                           0.93       619\n",
      "   macro avg       0.93      0.93      0.93       619\n",
      "weighted avg       0.93      0.93      0.93       619\n",
      "\n"
     ]
    }
   ],
   "source": [
    "# now represent the prediction in a nicely formatted classification report\n",
    "print(classification_report(testY.argmax(axis=1),predict,target_names=lb.classes_))"
   ]
  },
  {
   "attachments": {},
   "cell_type": "markdown",
   "metadata": {},
   "source": [
    "Confusion Matrix For Statistical Evaluation"
   ]
  },
  {
   "cell_type": "code",
   "execution_count": 27,
   "metadata": {},
   "outputs": [],
   "source": [
    "# create a confusion matrix consisting of accuracy, sensitivity, and specificity. \n",
    "confusionMatrix =confusion_matrix(testY.argmax(axis=1),predict)\n",
    "total = sum(sum(confusionMatrix))\n",
    "\n",
    "# caculate accuracy, sensitivity, and specificity\n",
    "accuracy = (confusionMatrix[0,0] + confusionMatrix[1,1]) / total\n",
    "sensitivity = confusionMatrix[0,0] / (confusionMatrix[0,0] + confusionMatrix[0,1])\n",
    "specificity = confusionMatrix[1,1] / (confusionMatrix[1,0] + confusionMatrix[1,1])"
   ]
  },
  {
   "cell_type": "code",
   "execution_count": 28,
   "metadata": {},
   "outputs": [
    {
     "name": "stdout",
     "output_type": "stream",
     "text": [
      "[[250  11]\n",
      " [ 32 326]]\n",
      "Accuracy:     0.931\n",
      "Sensitivity:  0.958\n",
      "Specificity:  0.911\n"
     ]
    }
   ],
   "source": [
    "# display the output\n",
    "print(confusionMatrix)\n",
    "print(\"Accuracy:    \", round(accuracy,3))\n",
    "print(\"Sensitivity: \", round(sensitivity,3))\n",
    "print(\"Specificity: \", round(specificity,3))\n"
   ]
  },
  {
   "attachments": {},
   "cell_type": "markdown",
   "metadata": {},
   "source": [
    "Plot for Visual Representation"
   ]
  },
  {
   "cell_type": "code",
   "execution_count": 29,
   "metadata": {},
   "outputs": [
    {
     "data": {
      "image/png": "[encoded data removed]",
      "text/plain": [
       "<Figure size 432x288 with 1 Axes>"
      ]
     },
     "metadata": {
      "needs_background": "light"
     },
     "output_type": "display_data"
    }
   ],
   "source": [
    "# graph for visual representation\n",
    "plt.plot(np.arange(0, EPOCHS), head.history[\"loss\"], label=\"train_loss\")\n",
    "plt.plot(np.arange(0, EPOCHS), head.history[\"val_loss\"], label=\"val_loss\")\n",
    "plt.plot(np.arange(0, EPOCHS), head.history[\"accuracy\"], label=\"train_acc\")\n",
    "plt.plot(np.arange(0, EPOCHS), head.history[\"val_accuracy\"], label=\"val_acc\")\n",
    "plt.title(\"Training Loss and Accuracy on COVID-19 Dataset\")\n",
    "plt.xlabel(\"Epoch #\")\n",
    "plt.ylabel(\"Loss/Accuracy\")\n",
    "plt.legend(loc=\"center right\")\n",
    "plt.show()"
   ]
  }
 ],
 "metadata": {
  "kernelspec": {
   "display_name": "Python 3",
   "language": "python",
   "name": "python3"
  },
  "language_info": {
   "codemirror_mode": {
    "name": "ipython",
    "version": 3
   },
   "file_extension": ".py",
   "mimetype": "text/x-python",
   "name": "python",
   "nbconvert_exporter": "python",
   "pygments_lexer": "ipython3",
   "version": "3.9.7"
  },
  "orig_nbformat": 4
 },
 "nbformat": 4,
 "nbformat_minor": 2
}
